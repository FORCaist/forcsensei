{
 "cells": [
  {
   "cell_type": "code",
   "execution_count": null,
   "metadata": {},
   "outputs": [],
   "source": [
    "import turbosensei as fs"
   ]
  },
  {
   "cell_type": "markdown",
   "metadata": {},
   "source": [
    "<div style=\"clear: left;\">\n",
    "    <p style=\"float: left;\"><img src=\"https://media1.tenor.com/images/05f63046d90165847bd99699ee3224be/tenor.gif?itemid=8171562\" height=\"150\" width=\"150\" border=\"1px\"></p>\n",
    "    <p><H1>Welcome to <i>FORCsensei<i></H1></p>\n",
    "</div>\n",
    "<p><H3>Automated first-order reversal curve (FORC) processing<p></H3>\n",
    "<p><i>FORCsensei is an open-source package provided by the Research Institute of Geology and Geoinformation, Geological Survey of Japan, National Institute of Advanced Industrial Science and Technology (AIST), Japan.<p>\n",
    "<p><i> The FORCsensei package code can be found <a href=\"https://github.com/FORCaist/turbosensei\" target=\"_blank\">here</a><p>"
   ]
  },
  {
   "cell_type": "markdown",
   "metadata": {},
   "source": [
    "<hr style=\"height:3px;border:none;color:#333;background-color:#333;\" />"
   ]
  },
  {
   "cell_type": "markdown",
   "metadata": {},
   "source": [
    "## Follow 10 steps to FORC enlightenment\n",
    "<div style=\"clear: left;\">\n",
    "    <p style=\"float: left;\"><img src=\"https://image.flaticon.com/icons/svg/217/217810.svg\" height=\"100\" width=\"100\" border=\"1px\"></p>\n",
    "    <p><H3>(1) Select a FORC data file</H3></p>\n",
    "</div>"
   ]
  },
  {
   "cell_type": "code",
   "execution_count": null,
   "metadata": {},
   "outputs": [],
   "source": [
    "X = {'fc':fs.load.FORCfile()}"
   ]
  },
  {
   "cell_type": "markdown",
   "metadata": {},
   "source": [
    "<hr style=\"height:3px;border:none;color:#333;background-color:#333;\" />"
   ]
  },
  {
   "cell_type": "markdown",
   "metadata": {},
   "source": [
    "<div style=\"clear: left;\">\n",
    "    <p style=\"float: left;\"><img src=\"https://image.flaticon.com/icons/svg/724/724831.svg\" height=\"100\" width=\"100\" border=\"1px\"></p>\n",
    "    <p><H3>(2) Initialize FORCsensei</H3></p>\n",
    "</div>"
   ]
  },
  {
   "cell_type": "code",
   "execution_count": null,
   "metadata": {},
   "outputs": [],
   "source": [
    "ini = fs.buttons.LoadedButton(description=\"Initialize\", value=X)\n",
    "ini.on_click(fs.buttons.ini)\n",
    "display(ini)"
   ]
  },
  {
   "cell_type": "markdown",
   "metadata": {},
   "source": [
    "<hr style=\"height:3px;border:none;color:#333;background-color:#333;\" />"
   ]
  },
  {
   "cell_type": "markdown",
   "metadata": {},
   "source": [
    "<div style=\"clear: left;\">\n",
    "    <p style=\"float: left;\"><img src=\"https://image.flaticon.com/icons/svg/1024/1024828.svg\" height=\"100\" width=\"100\" border=\"1px\"></p>\n",
    "    <p><H3>  (3) Select FORC Data Preprocessing Options</H3></p>\n",
    "</div>"
   ]
  },
  {
   "cell_type": "code",
   "execution_count": null,
   "metadata": {},
   "outputs": [],
   "source": [
    "po = fs.buttons.LoadedButton(description=\"Preprocess Options\", value=X)\n",
    "po.on_click(fs.buttons.ppo)\n",
    "display(po)\n",
    "X = po.value"
   ]
  },
  {
   "cell_type": "markdown",
   "metadata": {},
   "source": [
    "<hr style=\"height:3px;border:none;color:#333;background-color:#333;\" />"
   ]
  },
  {
   "cell_type": "markdown",
   "metadata": {},
   "source": [
    "<div style=\"clear: left;\">\n",
    "    <p style=\"float: left;\"><img src=\"https://image.flaticon.com/icons/svg/1286/1286736.svg\" height=\"100\" width=\"100\" border=\"1px\"></p>\n",
    "    <p><H3>(4) Perform FORC Data Preprocessing</H3></p>\n",
    "</div>"
   ]
  },
  {
   "cell_type": "code",
   "execution_count": null,
   "metadata": {},
   "outputs": [],
   "source": [
    "pe = fs.buttons.LoadedButton(description=\"Preprocess Data\", value=X)\n",
    "pe.on_click(fs.buttons.ppe)\n",
    "display(pe)\n",
    "X = pe.value"
   ]
  },
  {
   "cell_type": "markdown",
   "metadata": {},
   "source": [
    "<hr style=\"height:3px;border:none;color:#333;background-color:#333;\" />"
   ]
  },
  {
   "cell_type": "markdown",
   "metadata": {},
   "source": [
    "<div style=\"clear: left;\">\n",
    "    <p style=\"float: left;\"><img src=\"https://image.flaticon.com/icons/svg/1205/1205514.svg\" height=\"100\" width=\"100\" border=\"1px\"></p>\n",
    "    <p><H3>(5) Select FORC Regression Model Options</H3></p>\n",
    "</div>"
   ]
  },
  {
   "cell_type": "code",
   "execution_count": null,
   "metadata": {},
   "outputs": [],
   "source": [
    "ro = fs.buttons.LoadedButton(description=\"Model Options\", value=X)\n",
    "ro.on_click(fs.buttons.ro)\n",
    "display(ro)\n",
    "X = ro.value"
   ]
  },
  {
   "cell_type": "markdown",
   "metadata": {},
   "source": [
    "<hr style=\"height:3px;border:none;color:#333;background-color:#333;\" />"
   ]
  },
  {
   "cell_type": "markdown",
   "metadata": {},
   "source": [
    "<div style=\"clear: left;\">\n",
    "    <p style=\"float: left;\"><img src=\"https://image.flaticon.com/icons/svg/897/897065.svg\" height=\"100\" width=\"100\" border=\"1px\"></p>\n",
    "    <p><H3>(6) Perform FORC Regression Model Comparison</H3></p>\n",
    "</div>"
   ]
  },
  {
   "cell_type": "code",
   "execution_count": null,
   "metadata": {},
   "outputs": [],
   "source": [
    "rc = fs.buttons.LoadedButton(description=\"Compare models\", value=X)\n",
    "rc.on_click(fs.buttons.rc)\n",
    "display(rc)\n",
    "X = rc.value"
   ]
  },
  {
   "cell_type": "markdown",
   "metadata": {},
   "source": [
    "<hr style=\"height:3px;border:none;color:#333;background-color:#333;\" />"
   ]
  },
  {
   "cell_type": "markdown",
   "metadata": {},
   "source": [
    "<div style=\"clear: left;\">\n",
    "    <p style=\"float: left;\"><img src=\"https://image.flaticon.com/icons/svg/897/897066.svg\" height=\"100\" width=\"100\" border=\"1px\"></p>\n",
    "    <p><H3>(7) Calculate The Final FORC Model</H3></p>\n",
    "</div>"
   ]
  },
  {
   "cell_type": "code",
   "execution_count": null,
   "metadata": {},
   "outputs": [],
   "source": [
    "re = fs.buttons.LoadedButton(description=\"Calculate final model\", value=X)\n",
    "re.on_click(fs.buttons.re)\n",
    "display(re)\n",
    "X = re.value"
   ]
  },
  {
   "cell_type": "markdown",
   "metadata": {},
   "source": [
    "<hr style=\"height:3px;border:none;color:#333;background-color:#333;\" />"
   ]
  },
  {
   "cell_type": "markdown",
   "metadata": {},
   "source": [
    "<div style=\"clear: left;\">\n",
    "    <p style=\"float: left;\"><img src=\"https://image.flaticon.com/icons/svg/1402/1402141.svg\" height=\"100\" width=\"100\" border=\"1px\"></p>\n",
    "    <p><H3>(8) Plot The Final FORC Model</H3></p>\n",
    "</div>"
   ]
  },
  {
   "cell_type": "code",
   "execution_count": null,
   "metadata": {},
   "outputs": [],
   "source": [
    "rf = fs.buttons.LoadedButton(description=\"Plot final model\", value=X)\n",
    "rf.on_click(fs.buttons.rf)\n",
    "display(rf)"
   ]
  },
  {
   "cell_type": "markdown",
   "metadata": {},
   "source": [
    "<hr style=\"height:3px;border:none;color:#333;background-color:#333;\" />"
   ]
  },
  {
   "cell_type": "markdown",
   "metadata": {},
   "source": [
    "<div style=\"clear: left;\">\n",
    "    <p style=\"float: left;\"><img src=\"https://image.flaticon.com/icons/svg/262/262543.svg\" height=\"100\" width=\"100\" border=\"1px\"></p>\n",
    "    <p><H3>(9) Configure FORC Profile Plots</H3></p>\n",
    "</div>"
   ]
  },
  {
   "cell_type": "code",
   "execution_count": null,
   "metadata": {},
   "outputs": [],
   "source": [
    "rpo = fs.buttons.LoadedButton(description=\"Configure profiles\", value=X)\n",
    "rpo.on_click(fs.buttons.rpo)\n",
    "display(rpo)"
   ]
  },
  {
   "cell_type": "markdown",
   "metadata": {},
   "source": [
    "<hr style=\"height:3px;border:none;color:#333;background-color:#333;\" />"
   ]
  },
  {
   "cell_type": "markdown",
   "metadata": {},
   "source": [
    "<div style=\"clear: left;\">\n",
    "    <p style=\"float: left;\"><img src=\"https://image.flaticon.com/icons/svg/1753/1753830.svg\" height=\"100\" width=\"100\" border=\"1px\"></p>\n",
    "    <p><H3>(10) Plot The FORC Profile</H3></p>\n",
    "</div>"
   ]
  },
  {
   "cell_type": "code",
   "execution_count": null,
   "metadata": {},
   "outputs": [],
   "source": [
    "rpp = fs.buttons.LoadedButton(description=\"Plot profiles\", value=X)\n",
    "rpp.on_click(fs.buttons.rpp)\n",
    "display(rpp)"
   ]
  },
  {
   "cell_type": "markdown",
   "metadata": {},
   "source": [
    "<hr style=\"height:3px;border:none;color:#333;background-color:#333;\" />"
   ]
  }
 ],
 "metadata": {
  "kernelspec": {
   "display_name": "Python 3",
   "language": "python",
   "name": "python3"
  },
  "language_info": {
   "codemirror_mode": {
    "name": "ipython",
    "version": 3
   },
   "file_extension": ".py",
   "mimetype": "text/x-python",
   "name": "python",
   "nbconvert_exporter": "python",
   "pygments_lexer": "ipython3",
   "version": "3.6.6"
  }
 },
 "nbformat": 4,
 "nbformat_minor": 2
}
