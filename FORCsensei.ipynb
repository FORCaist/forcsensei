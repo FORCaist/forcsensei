{
 "cells": [
  {
   "cell_type": "markdown",
   "metadata": {},
   "source": [
    "<hr style=\"height:3px;border:none;color:#333;background-color:#333;\" />\n",
    "\n",
    "# Welcome to the *Binder* version of FORCsensei\n",
    "\n",
    "If you are unfamiliar with *Jupyter* Notebooks you can watch our <a href=\"https://youtu.be/ilyS6K4ry3U\" target=\"_blank\"> tutorial video</a>, which will get you started.\n",
    "\n",
    "## Running FORCsensei\n",
    "\n",
    "The most recent version of *FORCsensei* has been built into this *Jupyter* notebook.\n",
    "\n",
    "If you have any issues with *FORCsensei* please send an email to FORCaist.user@gmail.com and we will provide support as soon as possible."
   ]
  },
  {
   "cell_type": "code",
   "execution_count": null,
   "metadata": {},
   "outputs": [],
   "source": [
    "import forcsensei as fs"
   ]
  },
  {
   "cell_type": "markdown",
   "metadata": {},
   "source": [
    "<hr style=\"height:3px;border:none;color:#333;background-color:#333;\" />\n",
    "\n",
    "## Select a FORC data file\n",
    "Your FORC data file must be preloaded into your session (<a href=\"https://youtu.be/ilyS6K4ry3U\" target=\"_blank\">tutorial video</a>). You can then define the name of your file in the code cell below."
   ]
  },
  {
   "cell_type": "code",
   "execution_count": null,
   "metadata": {},
   "outputs": [],
   "source": [
    "fn = 'enter your filename here'"
   ]
  },
  {
   "cell_type": "markdown",
   "metadata": {},
   "source": [
    "<hr style=\"height:3px;border:none;color:#333;background-color:#333;\" />\n",
    "\n",
    "## Data preprocessing options\n",
    "**In this section you can set preprocessing options for your measurement data.**\n",
    "\n",
    "Execute the cell below and then set your preprocessing options. Individual preprocessing options are explained in the video tutorial."
   ]
  },
  {
   "cell_type": "code",
   "execution_count": null,
   "metadata": {},
   "outputs": [],
   "source": [
    "if ('X' in locals()) == False:\n",
    "    X = {}     \n",
    "X[\"fn\"] = fn\n",
    "X = fs.preprocessing_options(X)"
   ]
  },
  {
   "cell_type": "markdown",
   "metadata": {},
   "source": [
    "<hr style=\"height:3px;border:none;color:#333;background-color:#333;\" />\n",
    "\n",
    "## Data preprocessing\n",
    "\n",
    "Once you have selected your preprocessing options you can execute the command **```X = fs.data_preprocessing(X)```**, which will perform the preprocessing. \n",
    "\n",
    "Plots of your data will appear and will be automatically saved into your session ready for download (<a href=\"https://youtu.be/ilyS6K4ry3U\" target=\"_blank\">tutorial video</a>)."
   ]
  },
  {
   "cell_type": "code",
   "execution_count": null,
   "metadata": {},
   "outputs": [],
   "source": [
    "X = fs.data_preprocessing(X)"
   ]
  },
  {
   "cell_type": "markdown",
   "metadata": {},
   "source": [
    "<hr style=\"height:3px;border:none;color:#333;background-color:#333;\" />\n",
    "\n",
    "\n",
    "## FORC model options\n",
    "In this section you can set the VARIFORC model options for your FORC distribution.\n",
    "\n",
    "Execute **```X = fs.model_options(X)```** to set your model options (smoothing parameters are defined in the paper of <a href=\"https://www.sciencedirect.com/science/article/pii/S0921818113001744\" target=\"_blank\">Egli 2013</a>). You can randomly downsample the data set to speed up processing and parameter selection, but will need to create a final model using the full data set. "
   ]
  },
  {
   "cell_type": "code",
   "execution_count": null,
   "metadata": {},
   "outputs": [],
   "source": [
    "X = fs.model_options(X)"
   ]
  },
  {
   "cell_type": "markdown",
   "metadata": {},
   "source": [
    "<hr style=\"height:3px;border:none;color:#333;background-color:#333;\" />\n",
    "\n",
    "## Calculate FORC model\n",
    "The cell below will calculate the FORC distribution and its associated diagnostics. Because the calculations are being performed on a free cloud service (https://mybinder.org) they will be slow, therefore please be patient."
   ]
  },
  {
   "cell_type": "code",
   "execution_count": null,
   "metadata": {},
   "outputs": [],
   "source": [
    "X = fs.calculate_model(X)"
   ]
  },
  {
   "cell_type": "markdown",
   "metadata": {},
   "source": [
    "<hr style=\"height:3px;border:none;color:#333;background-color:#333;\" />\n",
    "\n",
    "## Plot the FORC distribution\n",
    "The cell below creates an interactive plot of your FORC distribution.\n",
    "\n",
    "Once you have adjusted the plot, you can save it to your local session ready for download (<a href=\"https://youtu.be/ilyS6K4ry3U\" target=\"_blank\">tutorial video</a>)."
   ]
  },
  {
   "cell_type": "code",
   "execution_count": null,
   "metadata": {},
   "outputs": [],
   "source": [
    "fs.FORC_plot(X);"
   ]
  },
  {
   "cell_type": "markdown",
   "metadata": {},
   "source": [
    "<hr style=\"height:3px;border:none;color:#333;background-color:#333;\" />\n",
    "\n",
    "## References\n",
    "*FORCsensei* uses techniques developed in a number of publications. If you use *FORCsensei* then you must cite these works:\n",
    "\n",
    "- Pike, C. R., A. P. Roberts, and K. L. Verosub (1999), Characterizing interactions in fine magnetic particle systems using first order reversal curves, *J. Appl. Phys.*, 85, 6660–6667 (https://doi.org/10.1063/1.370176).\n",
    "\n",
    "\n",
    "- Egli, R. (2013), VARIFORC: An optimized protocol for calculating non-regular first-order reversal curve (FORC) diagrams, *Global Planet. Change*, 110, 302–320 (https://doi.org/10.1016/j.gloplacha.2013.08.003)."
   ]
  }
 ],
 "metadata": {
  "kernelspec": {
   "display_name": "Python 3",
   "language": "python",
   "name": "python3"
  },
  "language_info": {
   "codemirror_mode": {
    "name": "ipython",
    "version": 3
   },
   "file_extension": ".py",
   "mimetype": "text/x-python",
   "name": "python",
   "nbconvert_exporter": "python",
   "pygments_lexer": "ipython3",
   "version": "3.6.6"
  }
 },
 "nbformat": 4,
 "nbformat_minor": 2
}
