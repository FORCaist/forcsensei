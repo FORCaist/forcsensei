{
 "cells": [
  {
   "cell_type": "markdown",
   "metadata": {},
   "source": [
    "### Example Colab notebook\n",
    "\n",
    "#### Install the FORCsensei package, upload some raw data and plot\n",
    "\n",
    "This notebook can be accessed at: https://colab.research.google.com/github/FORCaist/forcsensei/blob/master/GitHub_test.ipynb"
   ]
  },
  {
   "cell_type": "code",
   "execution_count": null,
   "metadata": {},
   "outputs": [],
   "source": [
    "!pip install --upgrade git+https://github.com/FORCaist/forcsensei.git #install FORCsensei\n",
    "\n",
    "import forcsensei as fs\n",
    "import matplotlib.pyplot as plt\n",
    "from google.colab import files\n",
    "\n",
    "uploaded = files.upload()\n",
    "for fn in uploaded.keys():\n",
    "  print('User uploaded FORC file \"{name}\"'.format(name=fn))\n",
    "\n",
    "H, Hr, M, Fk, Fj, Ft, dH = fs.parse_measurements(fn)\n",
    "plt.plot(H,M,'.')\n",
    "plt.show()"
   ]
  }
 ],
 "metadata": {
  "kernelspec": {
   "display_name": "Python 3",
   "language": "python",
   "name": "python3"
  },
  "language_info": {
   "codemirror_mode": {
    "name": "ipython",
    "version": 3
   },
   "file_extension": ".py",
   "mimetype": "text/x-python",
   "name": "python",
   "nbconvert_exporter": "python",
   "pygments_lexer": "ipython3",
   "version": "3.6.6"
  }
 },
 "nbformat": 4,
 "nbformat_minor": 2
}
