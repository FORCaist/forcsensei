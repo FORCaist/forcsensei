{
 "cells": [
  {
   "cell_type": "markdown",
   "metadata": {},
   "source": [
    "### Example Colab notebook\n",
    "\n",
    "#### Install the FORCsensei package, upload some raw data and plot\n",
    "\n",
    "This notebook can be accessed at: https://colab.research.google.com/github/FORCaist/forcsensi/GitHub_test.ipynb"
   ]
  },
  {
   "cell_type": "code",
   "execution_count": 1,
   "metadata": {},
   "outputs": [
    {
     "name": "stdout",
     "output_type": "stream",
     "text": [
      "Collecting git+https://github.com/FORCaist/forcsensei.git\n",
      "  Cloning https://github.com/FORCaist/forcsensei.git to /private/var/folders/_0/8_4ld9f143z3c_94cf96tk640000gp/T/pip-req-build-wj2qx_v2\n",
      "Requirement already satisfied (use --upgrade to upgrade): forcsensei==0.0.1 from git+https://github.com/FORCaist/forcsensei.git in /anaconda/lib/python3.6/site-packages\n",
      "Building wheels for collected packages: forcsensei\n",
      "  Running setup.py bdist_wheel for forcsensei ... \u001b[?25ldone\n",
      "\u001b[?25h  Stored in directory: /private/var/folders/_0/8_4ld9f143z3c_94cf96tk640000gp/T/pip-ephem-wheel-cache-lynzl9r6/wheels/e2/c0/17/530c3cfd1ef8ed6b01c385cbd3c8ea5ee4dba7a35a212499b9\n",
      "Successfully built forcsensei\n",
      "\u001b[33mYou are using pip version 18.0, however version 18.1 is available.\n",
      "You should consider upgrading via the 'pip install --upgrade pip' command.\u001b[0m\n"
     ]
    }
   ],
   "source": [
    "!pip install git+https://github.com/FORCaist/forcsensei.git #install FORCsensei"
   ]
  },
  {
   "cell_type": "code",
   "execution_count": 2,
   "metadata": {},
   "outputs": [],
   "source": [
    "import forcsensei as fs\n",
    "import matplotlib.pyplot as plt\n",
    "from google.colab import files"
   ]
  },
  {
   "cell_type": "code",
   "execution_count": null,
   "metadata": {},
   "outputs": [],
   "source": [
    "uploaded = files.upload()"
   ]
  },
  {
   "cell_type": "code",
   "execution_count": null,
   "metadata": {},
   "outputs": [],
   "source": [
    "Hcal, Mcal, tcal = fs.parse_calibration(file)\n",
    "plt.plot(Hcal,Mcal)"
   ]
  }
 ],
 "metadata": {
  "kernelspec": {
   "display_name": "Python 3",
   "language": "python",
   "name": "python3"
  },
  "language_info": {
   "codemirror_mode": {
    "name": "ipython",
    "version": 3
   },
   "file_extension": ".py",
   "mimetype": "text/x-python",
   "name": "python",
   "nbconvert_exporter": "python",
   "pygments_lexer": "ipython3",
   "version": "3.6.6"
  }
 },
 "nbformat": 4,
 "nbformat_minor": 2
}
