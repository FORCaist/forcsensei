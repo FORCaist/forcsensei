{
  "nbformat": 4,
  "nbformat_minor": 0,
  "metadata": {
    "colab": {
      "name": "FORCsensei-01.ipynb",
      "version": "0.3.2",
      "provenance": [],
      "collapsed_sections": []
    },
    "kernelspec": {
      "name": "python3",
      "display_name": "Python 3"
    }
  },
  "cells": [
    {
      "metadata": {
        "id": "CXUOROM8rX0U",
        "colab_type": "text"
      },
      "cell_type": "markdown",
      "source": [
        "# Welcome to FORCsensei\n",
        "\n",
        "### n.b - this notebook must be run in Chrome browser\n",
        "\n",
        "![alt text](https://pbs.twimg.com/profile_images/902883343154372608/YNMlCTSf_400x400.jpg)\n",
        "\n",
        "\n",
        "---\n",
        "\n"
      ]
    },
    {
      "metadata": {
        "id": "-Y1pHJlHrwVD",
        "colab_type": "text"
      },
      "cell_type": "markdown",
      "source": [
        "## Install FORCsensei from GitHub"
      ]
    },
    {
      "metadata": {
        "id": "qqL4H_G8ra8B",
        "colab_type": "code",
        "colab": {}
      },
      "cell_type": "code",
      "source": [
        "!pip install -q --upgrade git+https://github.com/FORCaist/forcsensei.git@preprocess_nov\n",
        "import forcsensei as fs"
      ],
      "execution_count": 0,
      "outputs": []
    },
    {
      "metadata": {
        "id": "GGRcwp9Wty_1",
        "colab_type": "text"
      },
      "cell_type": "markdown",
      "source": [
        "\n",
        "\n",
        "---\n",
        "\n"
      ]
    },
    {
      "metadata": {
        "id": "2jpufyNssVZ5",
        "colab_type": "text"
      },
      "cell_type": "markdown",
      "source": [
        "## Video Tutorial Panel\n",
        "\n",
        "Here you can watch tutorials that cover all aspects of the FORCsensei processing sequence. Find the number of the tutorial you wish to watch and enter that number into the grey code cell below. For example, if you would like to watch tutorial 2, modify the command to:\n",
        "\n",
        "```play_tutorial(2)```\n",
        "\n",
        "Then press ```Shift``` and ```Enter``` together to execute the command and watch the video (you can select full-screen mode in the video panel if required).\n",
        "\n",
        "If you would like to watch another video, just change the number in the ```play_tutorial``` command and press ```Shift``` and ```Enter``` again.\n",
        "\n",
        "### Available Tutorials\n",
        "1. Introduction to FORCsensei\n",
        "2. Load FORC data file\n",
        "3. Viewing preprocessing parameters\n",
        "4. Setting preprocessing parameters\n",
        "\n"
      ]
    },
    {
      "metadata": {
        "id": "QrEZaVTFr_nz",
        "colab_type": "code",
        "colab": {}
      },
      "cell_type": "code",
      "source": [
        "fs.play_tutorial(2)"
      ],
      "execution_count": 0,
      "outputs": []
    },
    {
      "metadata": {
        "id": "KZ88XNPa7P-b",
        "colab_type": "text"
      },
      "cell_type": "markdown",
      "source": [
        "---"
      ]
    },
    {
      "metadata": {
        "id": "rXHTM2BE7VDk",
        "colab_type": "text"
      },
      "cell_type": "markdown",
      "source": [
        "## Load FORC data file\n",
        "\n",
        "Execution of the following code cell will produce a **```Choose files```** button. Click the button, then browse and selected the data file you wish to process (n.b. this button will only work in Chrome browser).\n",
        "\n",
        "Progress of the upload is shown and a message:\n",
        "\n",
        "**```User uploaded FORC file ...```**\n",
        "\n",
        "will be given once the data is loaded. You can then proceed to Preprocessing."
      ]
    },
    {
      "metadata": {
        "id": "iKXxwuAQ7OoT",
        "colab_type": "code",
        "colab": {}
      },
      "cell_type": "code",
      "source": [
        "sample, units, mass, fn = fs.load_file()"
      ],
      "execution_count": 0,
      "outputs": []
    },
    {
      "metadata": {
        "id": "piD6k9ix8rtV",
        "colab_type": "text"
      },
      "cell_type": "markdown",
      "source": [
        "---"
      ]
    },
    {
      "metadata": {
        "id": "06b1wl0m8wRm",
        "colab_type": "text"
      },
      "cell_type": "markdown",
      "source": [
        "## Data Preprocessing\n",
        "\n",
        "Execute the code cell below to initialize your preprocessing options. A staus report concerning the different options (and potential errors) will be provided.\n",
        "\n",
        "You can change any of the preprocessing options in ```pp```, and then execute the cell again to update your choices."
      ]
    },
    {
      "metadata": {
        "id": "bM75oD0z5pX8",
        "colab_type": "code",
        "colab": {}
      },
      "cell_type": "code",
      "source": [
        "pp = {\n",
        "    \"sample name\": sample,\n",
        "    \"sample mass (g)\": mass,\n",
        "    \"units\": units,\n",
        "    \"mass normalize\": False,\n",
        "    \"drift correction\": True,\n",
        "    \"high field slope correction\": True,\n",
        "    \"first point artifact\": False,\n",
        "    \"last point artifact\": False,\n",
        "    \"replace outliers\": False,\n",
        "    \"subtract lower branch\": True,\n",
        "    \"plots\": True,\n",
        "    \"save plots\": False\n",
        "}\n",
        "\n",
        "fs.check_pp(fn,pp)"
      ],
      "execution_count": 0,
      "outputs": []
    },
    {
      "metadata": {
        "id": "AIVrbleD9_w_",
        "colab_type": "text"
      },
      "cell_type": "markdown",
      "source": [
        "Once you have set your preprocessing options you can execture the code cell below to preprocess your data"
      ]
    },
    {
      "metadata": {
        "id": "aYMwSVA16Z0D",
        "colab_type": "code",
        "colab": {}
      },
      "cell_type": "code",
      "source": [
        "data = fs.preprocessing(pp,fn)"
      ],
      "execution_count": 0,
      "outputs": []
    },
    {
      "metadata": {
        "id": "qcxrCyJ--X0F",
        "colab_type": "code",
        "colab": {}
      },
      "cell_type": "code",
      "source": [
        ""
      ],
      "execution_count": 0,
      "outputs": []
    }
  ]
}